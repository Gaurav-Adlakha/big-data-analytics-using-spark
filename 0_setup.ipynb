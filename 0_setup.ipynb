{
 "cells": [
  {
   "cell_type": "markdown",
   "metadata": {},
   "source": [
    "# Setup Using Docker\n",
    "\n",
    "The purpose of this part is to ensure you have a working and compatible Python and PySpark installation. In order to avoid potential compatibility issues generated from students using different versions than the expected, we provide a Docker image with Ubuntu 16.04 and a clean Anaconda 4.3 with python 3.6, jupyter 5.4, spark 2.2 installation. We also provide a script to run the docker image and get Jupyter running on it so that you can program on it directly.\n",
    "\n",
    "* Docker containers are not intended to store data. We highly recommend you develop your solutions locally and only use docker to compile and run. The following guides show you how to do that. Obtained results should be stored locally as well. If you develop within the container you are at risk of losing your work. You have been warned.\n",
    "\n",
    "\n",
    "* When you work within the provided container (interactively or not) you are automatically logged in as a user named ucsddse230. Your homework notebook is mounted in the directory /home/ucsddse230/work. If you delete the mounted directory containing your work it will be deleted from the host system. Make sure your work is secure at all times. We recommend you use some sort of version control such as git.\n",
    "\n",
    "Installing Docker with this [guide](https://docs.docker.com/install/linux/docker-ce/ubuntu/)\n",
    "\n",
    "After installation, run:\n",
    "\n",
    "```$ sudo docker pull ucsddse230/cse255-dse230```"
   ]
  },
  {
   "cell_type": "markdown",
   "metadata": {},
   "source": [
    "# Running Docker Images\n",
    "\n",
    "Next, download the required content (for example, Programming assignment or Section Notebooks) files from EdX directory to some location on your computer. ex: /local/path/to/pa1\n",
    "\n",
    "An an illustration, let's use Programming Assignment 1. You may open the Programming Assignment 1 section on EdX which has the link to the necessary started code.\n",
    "\n",
    "Let's say after unpacking the files pa1 files are present in  /local/path/to/pa1\n",
    "\n",
    "NOTE: This path should be the absolute path.\n",
    "\n",
    "Then run the following following line of code in your terminal (first time might take a while).\n",
    "\n",
    "$ docker run -it -p 8889:8888 -v /local/path/to/pa1:/home/ucsddse230/work ucsddse230/cse255-dse230 /bin/bash\n",
    "\n",
    "This command will:\n",
    "\n",
    "1. Start the docker container\n",
    "\n",
    "2. mount the local directory \"/local/path/to/pa1\" inside the container at the location \"/home/ucsddse230/work\"\n",
    "\n",
    "3. Forward requests to port 8889 on the local system from port 8888 inside the docker container.\n",
    "\n",
    "Notice the terminal has changed, you are now inside a virtual machine. Run the following commands to start jupyter at http://localhost:8889 by issuing the command\n",
    "\n",
    "$ jupyter notebook\n",
    "\n",
    "This will start jupyter at port 8888 inside the docker container, which will be accessible outside the docker at port 8889.\n",
    "\n",
    "Now you can view notebooks and work on homework at the localhost:8889 port. Go ahead open your web browser and put \"localhost:8889\" in the address bar. You should now be able to see the Jupyter Notebook webpage.\n",
    "\n",
    "Students using Docker Toolbox can access the Jupyter notebook running in their Docker container at the DockerIP:8888 port, where DockerIP is the IP address returned in the previous section.\n",
    "\n",
    "Whatever changes you make will also happen to /local/path/to/pa1. "
   ]
  },
  {
   "cell_type": "markdown",
   "metadata": {},
   "source": [
    "# Setup From Scratch\n",
    "\n",
    "First install the Python 3.6 version using the anaconda distribution.\n",
    "\n",
    "### Install jupyter\n",
    "\n",
    "If you install Anaconda, jupyter and almost all the necessary packages are installed for you.\n",
    "\n",
    "### Install notebook extensions\n",
    "\n",
    "This step is not required, but extensions can make your work on notebooks significantly easier.\n",
    "\n",
    "To install a bunch of useful extensions, together with a configurator for managing thses extensions, follow the directions on:\n",
    "\n",
    "https://github.com/Jupyter-contrib/jupyter_nbextensions_configurator\n",
    "\n",
    "### Install python packages\n",
    "\n",
    "Make sure to install the python package findspark. The typing the following command in the terminal installs the package:\n",
    "\n",
    "```\n",
    "  Anaconda:\n",
    "  conda install -c conda-forge findspark=1.0.0\n",
    "  \n",
    "  pip:\n",
    "  sudo pip install findspark\n",
    "```\n",
    "\n",
    "If you are using pip instead of anaconda, you also must install the following packages:\n",
    "\n",
    "   * numpy\n",
    "   * matplotlib\n",
    "   * pandas\n",
    "   * Some notebooks require additional packages, or packages of a later version. If an import command in a notebook fails, use pip or conda to install the missing package.\n",
    "\n",
    "### Install Spark on your computer\n",
    "\n",
    "   [Install on Linux or Mac OS X](https://mas-dse.github.io/DSE230/installation/linux/)"
   ]
  },
  {
   "cell_type": "markdown",
   "metadata": {},
   "source": [
    "# Files for first week\n",
    "\n",
    "Unpack them with `tar -xzf filename.tgz`\n",
    "\n",
    "[Section-1-Spark-basics](https://prod-edxapp.edx-cdn.org/assets/courseware/v1/e90f6f073595cdadf2325b02e86b9e97/asset-v1:UCSanDiegoX+DSE230x+1T2018+type@asset+block/Section1Notebooks.tgz)\n",
    "\n",
    "[Data](https://prod-edxapp.edx-cdn.org/assets/courseware/v1/5384c4e716980dbe8bb47ece41ad7394/asset-v1:UCSanDiegoX+DSE230x+1T2018+type@asset+block/Data.tgz)"
   ]
  }
 ],
 "metadata": {
  "kernelspec": {
   "display_name": "Python 3",
   "language": "python",
   "name": "python3"
  },
  "language_info": {
   "codemirror_mode": {
    "name": "ipython",
    "version": 3
   },
   "file_extension": ".py",
   "mimetype": "text/x-python",
   "name": "python",
   "nbconvert_exporter": "python",
   "pygments_lexer": "ipython3",
   "version": "3.6.5"
  }
 },
 "nbformat": 4,
 "nbformat_minor": 2
}
